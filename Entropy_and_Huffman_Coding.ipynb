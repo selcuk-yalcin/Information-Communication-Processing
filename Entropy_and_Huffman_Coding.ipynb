{
  "cells": [
    {
      "cell_type": "markdown",
      "metadata": {
        "id": "view-in-github",
        "colab_type": "text"
      },
      "source": [
        "<a href=\"https://colab.research.google.com/github/selcuk-yalcin/Information-Communication-Processing/blob/main/Entropy_and_Huffman_Coding.ipynb\" target=\"_parent\"><img src=\"https://colab.research.google.com/assets/colab-badge.svg\" alt=\"Open In Colab\"/></a>"
      ]
    },
    {
      "cell_type": "code",
      "execution_count": null,
      "id": "d90880ed",
      "metadata": {
        "id": "d90880ed"
      },
      "outputs": [],
      "source": [
        "import math\n",
        "import heapq\n",
        "from collections import defaultdict\n",
        "import pandas as pd\n",
        "\n",
        "# Raw counts extracted from the image (letter: frequency)\n",
        "# These are the absolute frequencies of each character.\n",
        "frequencies = {\n",
        "    ...\n",
        "}\n",
        "\n",
        "total_count = sum(frequencies.values())\n",
        "\n",
        "# Step 1: Calculate probabilities\n",
        "# Convert absolute frequencies into relative probabilities (p = count / total).\n",
        "probabilities = {char: count / total_count for char, count in frequencies.items()}\n",
        "\n",
        "# Step 2: Compute entropy H = -∑ p * log2(p)\n",
        "# Shannon entropy measures the average uncertainty (information content).\n",
        "entropy = -sum(p * math.log2(p) for p in probabilities.values())\n",
        "\n",
        "# Step 3: Huffman coding\n",
        "# Define a binary tree structure where each node represents a symbol and its probability.\n",
        "class Node:\n",
        "    def __init__(self, symbol=None, prob=0, left=None, right=None):\n",
        "        self.symbol = symbol\n",
        "        self.prob = prob\n",
        "        self.left = left\n",
        "        self.right = right\n",
        "\n",
        "    def __lt__(self, other):\n",
        "        return self.prob < other.prob\n",
        "\n",
        "# Build the Huffman tree by combining the two lowest-probability nodes at each step.\n",
        "def build_huffman_tree(probs):\n",
        "    heap = [Node(symbol=symbol, prob=prob) for symbol, prob in probs.items()]\n",
        "    heapq.heapify(heap)\n",
        "\n",
        "    while len(heap) > 1:\n",
        "        n1 = heapq.heappop(heap)\n",
        "        n2 = heapq.heappop(heap)\n",
        "        merged = Node(prob=n1.prob + n2.prob, left=n1, right=n2)\n",
        "        heapq.heappush(heap, merged)\n",
        "\n",
        "    return heap[0]\n",
        "\n",
        "# Recursively assign binary codes to each symbol.\n",
        "def build_code_table(node, prefix='', codebook={}):\n",
        "    if node.symbol is not None:\n",
        "        codebook[node.symbol] = prefix\n",
        "    else:\n",
        "        build_code_table(node.left, prefix + '0', codebook)\n",
        "        build_code_table(node.right, prefix + '1', codebook)\n",
        "    return codebook\n",
        "\n",
        "# Build tree and generate Huffman codes\n",
        "tree = build_huffman_tree(probabilities)\n",
        "huffman_codes = build_code_table(tree)\n",
        "\n",
        "# Step 4: Calculate average codeword length\n",
        "# Expected length = ∑ p(x) * code_length(x).\n",
        "average_code_length = sum(probabilities[ch] * len(huffman_codes[ch]) for ch in huffman_codes)\n",
        "\n",
        "# Output results\n",
        "print(f\"Total symbols: {total_count}\")\n",
        "print(f\"Entropy (bits): {entropy:.4f}\")\n",
        "print(f\"Average Huffman code length: {average_code_length:.4f}\\n\")\n",
        "\n",
        "# Create table with probabilities and code lengths\n",
        "rows = []\n",
        "for ch in sorted(huffman_codes):\n",
        "    prob = probabilities[ch]\n",
        "    code_len = len(huffman_codes[ch])\n",
        "    rows.append({\"Character\": ch, \"Probability\": prob, \"Code Length (bits)\": code_len})\n",
        "\n",
        "df = pd.DataFrame(rows)\n",
        "print(df)"
      ]
    },
    {
      "cell_type": "code",
      "source": [
        "#"
      ],
      "metadata": {
        "id": "grxWxFOuJBRZ"
      },
      "id": "grxWxFOuJBRZ",
      "execution_count": null,
      "outputs": []
    }
  ],
  "metadata": {
    "colab": {
      "provenance": [],
      "gpuType": "T4",
      "include_colab_link": true
    },
    "kernelspec": {
      "display_name": "Python 3",
      "name": "python3"
    },
    "language_info": {
      "codemirror_mode": {
        "name": "ipython",
        "version": 3
      },
      "file_extension": ".py",
      "mimetype": "text/x-python",
      "name": "python",
      "nbconvert_exporter": "python",
      "pygments_lexer": "ipython3",
      "version": "3.10.16"
    },
    "accelerator": "GPU"
  },
  "nbformat": 4,
  "nbformat_minor": 5
}